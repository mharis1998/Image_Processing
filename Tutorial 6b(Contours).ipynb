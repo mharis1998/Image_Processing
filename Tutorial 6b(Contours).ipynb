{
 "cells": [
  {
   "cell_type": "code",
   "execution_count": 9,
   "metadata": {},
   "outputs": [],
   "source": [
    "import cv2\n",
    "import numpy as np \n",
    "import imutils"
   ]
  },
  {
   "cell_type": "markdown",
   "metadata": {},
   "source": [
    "# Advanced Contour Properties\n",
    "Contour properties can take you a long, long way when building computer vision applications, especially when you are first getting started. It takes a bit of creative thinking and a lot of discipline not to jump to more advanced techniques such as machine learning and training your own object classifier — but by paying attention to contour properties we can actually perform object identification for simple objects quite easily.\n",
    "\n",
    "Let’s go ahead and get started reviewing some of the more advanced contour properties, beginning with aspect ratio.\n",
    "\n",
    "# Aspect Ratio\n",
    "The first “advanced” contour property we’ll discuss is the aspect ratio. The aspect ratio is actually not that complicated at all, hence why I’m putting the term “advanced” in quotations. But despite its simplicity, it can be very powerful.\n",
    "\n",
    "For example, I’ve personally used aspect ratio to distinguish between squares and rectangles and detect handwritten digits in images and prune them from the rest of the contours.\n",
    "\n",
    "The actual definition of the contour’s aspect ratio is as follows:\n",
    "\n",
    "aspect ratio = image width / image height\n",
    "\n",
    "Yep. It’s really that simple. The aspect ratio is simply the ratio of the image width to the image height.\n",
    "\n",
    "Shapes with an aspect ratio < 1 have a height that is greater than the width — these shapes will appear to be more “tall” and elongated. For example, most digits and characters on a license plate have an aspect ratio that is less than 1 (since most characters on a license plate are taller than they are wide).\n",
    "\n",
    "And shapes with an aspect ratio > 1 have a width that is greater than the height. The license plate itself is an example of a object that will have an aspect ratio greater than 1 since the width of a physical license plate is always greater than the height.\n",
    "\n",
    "Finally, shapes with an aspect ratio = 1 (plus or minus some \\epsilon of course), have approximately the same width and height. Squares and circles are examples of shapes that will have an aspect ratio of approximately 1.\n",
    "\n",
    "# Extent\n",
    "The extent of a shape or contour is the ratio of the contour area to the bounding box area:\n",
    "\n",
    "extent = shape area / bounding box area\n",
    "\n",
    "Recall that the area of an actual shape is simply the number of pixels inside the contoured region. On the other hand, the rectangular area of the contour is determined by its bounding box, therefore:\n",
    "\n",
    "bounding box area = bounding box width x bounding box height\n",
    "\n",
    "In all cases the extent will be less than 1 — this is because the number of pixels inside the contour cannot possibly be larger the number of pixels in the bounding box of the shape.\n",
    "\n",
    "Whether or not you use the extent when trying to distinguish between various shapes in images is entirely dependent on your application. And furthermore, you’ll have to manually inspect the values of the extent to determine which ranges are good for distinguishing between shapes — and later in this section, I’ll show you exactly how to perform this inspection.\n",
    "\n",
    "# Convex Hull\n",
    "I like to think of a convex hull as a super elastic rubber band to bundle together a bunch of mail envelopes. I can place however many envelopes I want inside this rubber band, regardless of their size. And no matter what, this super elastic rubber band will surround these envelopes and hold them together. This super elastic rubber band never leaves any extra space or any extra slack — it requires the minimum amount of space to enclose all my envelopes.\n",
    "\n",
    "A convex hull is almost like a mathematical rubber band. More formally, given a set of X points in the Euclidean space, the convex hull is the smallest possible convex set that contains these X points.\n",
    "\n",
    "On the left we have our original shape. And in the center we have the convex hull of original shape. Notice how the rubber band has been stretched to around all extreme points of the shape, but leaving no extra space along the contour — thus the convex hull is the minimum enclosing polygon of all points of the input shape, which can be seen on the right.\n",
    "\n",
    "Another important aspect of the convex hull that we should discuss is the convexity. Convex curves are curves that appear to “bulge out”. If a curve is not bulged out, then we call it a convexity defect.\n",
    "\n",
    "The gray outline of the hand in the image above is our original shape. The red line is the convex hull of the hand. And the black arrows, such as in between the fingers, are where the convex hull is “bulged in” rather than “bulged out”. Whenever a region is “bulged in”, such as in the hand image above, we call them convexity defects.\n",
    "\n",
    "Perhaps not surprisingly, the convex hull and convexity defects play a major role in hand gesture recognition, as it allows us to utilize the convexity defects of the hand to count the number of fingers. We’ll be exploring hand gesture recognition and convexity defects in Module 13 of this course.\n",
    "\n",
    "But hand gesture recognition is not the only thing the convex hull is good for. We also use it when computing another important contour property: solidity.\n",
    "\n",
    "# Solidity\n",
    "The last advanced contour I want to discuss is the solidity of a shape. The solidity of a shape is the area of the contour area divided by the area of the convex hull:\n",
    "\n",
    "solidity = contour area / convex hull area\n",
    "\n",
    "Again, it’s not possible to have a solidity value greater than 1. The number of pixels inside a shape cannot possibly outnumber the number of pixels in the convex hull, because, by definition, the convex hull is the smallest possible set of pixels enclosing the shape.\n",
    "\n",
    "Just as in the extent of a shape, when using the solidity to distinguish between various objects you’ll need to manually inspect the values of the solidity to determine the appropriate ranges. For example (and as we’ll see in the next sub-section), the solidity of a shape is actually perfect for distinguishing between the X’s and O’s on a tic-tac-toe board."
   ]
  },
  {
   "cell_type": "code",
   "execution_count": 24,
   "metadata": {},
   "outputs": [],
   "source": [
    "image=cv2.imread(\"railway.jpg\")\n",
    "gray=cv2.cvtColor(image,cv2.COLOR_BGR2GRAY)\n",
    "contours=cv2.findContours(gray.copy(),cv2.RETR_LIST,cv2.CHAIN_APPROX_SIMPLE)\n",
    "cnts=imutils.grab_contours(contours)"
   ]
  },
  {
   "cell_type": "code",
   "execution_count": 30,
   "metadata": {},
   "outputs": [
    {
     "data": {
      "text/plain": [
       "-1"
      ]
     },
     "execution_count": 30,
     "metadata": {},
     "output_type": "execute_result"
    }
   ],
   "source": [
    "for c in cnts:\n",
    "    area=cv2.contourArea(c)\n",
    "    box=cv2.boundingRect(c)\n",
    "    hull=cv2.convexHull(c)\n",
    "    hull_area=cv2.contourArea(hull)\n",
    "    solidity=area/float(hull_area)\n",
    "    clone=image.copy()\n",
    "    cv2.drawContours(clone,[hull],-1,255,2)\n",
    "cv2.imshow(\"Clone\",clone)\n",
    "cv2.waitKey(0)"
   ]
  },
  {
   "cell_type": "code",
   "execution_count": 26,
   "metadata": {},
   "outputs": [
    {
     "data": {
      "text/plain": [
       "-1"
      ]
     },
     "execution_count": 26,
     "metadata": {},
     "output_type": "execute_result"
    }
   ],
   "source": [
    "clone=image.copy()\n",
    "cv2.drawContours(clone,[hull],-1,255,2)\n",
    "cv2.imshow(\"Clone\",clone)\n",
    "cv2.waitKey(0)"
   ]
  },
  {
   "cell_type": "markdown",
   "metadata": {},
   "source": [
    "# Contour Approximation\n",
    "As the name suggests, contour approximation is an algorithm for reducing the number of points in a curve with a reduced set of points — thus, an approximation. This algorithm is commonly known as the Ramer-Douglas-Peucker algorithm, or simply: the split-and-merge algorithm.\n",
    "\n",
    "The general assumption of this algorithm is that a curve can be approximated by a series of short line segments. And we can thus approximate a given number of these line segments to reduce the number of points it takes to construct a curve.\n",
    "\n",
    "Overall, the resulting approximated curve consists of a subset of points that were defined by the original curve.\n",
    "\n",
    "The actual algorithm itself is already implemented in OpenCV via the cv2.approxPolyDP  function, so luckily we do not have to implement the algorithm by hand. However, the recursive algorithm is fairly straightforward and I would definitely suggest giving the excellent Wikipedia article on the approximation algorithm a quick read.\n",
    "\n",
    "Before we get too far, I want to take a look at an example image so we can understand the utility of contour approximation. Then, after this little example image and source code, I’ll return to the contour approximation algorithm and discuss the parameters that we need to pay attention to.\n",
    "\n",
    "Take a look at the example image below — our goal here is to detect only the rectangles, while ignoring the circles/ellipses:"
   ]
  },
  {
   "cell_type": "code",
   "execution_count": 41,
   "metadata": {},
   "outputs": [],
   "source": [
    "image=cv2.imread(\"4.png\")\n",
    "gray=cv2.cvtColor(image,cv2.COLOR_BGR2GRAY)\n",
    "cnts=cv2.findContours(gray.copy(),cv2.RETR_LIST,cv2.CHAIN_APPROX_SIMPLE)\n",
    "cnts=imutils.grab_contours(cnts)\n",
    "#cv2.imshow(\"Shapes\",image)\n",
    "#cv2.waitKey(0)"
   ]
  },
  {
   "cell_type": "code",
   "execution_count": 1,
   "metadata": {},
   "outputs": [
    {
     "ename": "NameError",
     "evalue": "name 'cnts' is not defined",
     "output_type": "error",
     "traceback": [
      "\u001b[1;31m---------------------------------------------------------------------------\u001b[0m",
      "\u001b[1;31mNameError\u001b[0m                                 Traceback (most recent call last)",
      "Input \u001b[1;32mIn [1]\u001b[0m, in \u001b[0;36m<cell line: 1>\u001b[1;34m()\u001b[0m\n\u001b[1;32m----> 1\u001b[0m \u001b[38;5;28;01mfor\u001b[39;00m c \u001b[38;5;129;01min\u001b[39;00m \u001b[43mcnts\u001b[49m:\n\u001b[0;32m      2\u001b[0m     box\u001b[38;5;241m=\u001b[39mcv2\u001b[38;5;241m.\u001b[39mboundingRect(c)\n\u001b[0;32m      3\u001b[0m     \u001b[38;5;66;03m#approx=cv2.approxPolyDP(c,0.01*peri,True)\u001b[39;00m\n",
      "\u001b[1;31mNameError\u001b[0m: name 'cnts' is not defined"
     ]
    }
   ],
   "source": [
    "for c in cnts:\n",
    "    box=cv2.boundingRect(c)\n",
    "    #approx=cv2.approxPolyDP(c,0.01*peri,True)\n",
    "    peri=cv2.arcLength(c,True)\n",
    "    approx = cv2.approxPolyDP(c, 0.01 * peri, True)\n",
    "    if len(approx)==4:\n",
    "        cv2.drawContours(image,[c],-1,255,2)\n",
    "cv2.imshow(\"iMAGE\",image)\n",
    "cv2.waitKey(0)"
   ]
  },
  {
   "cell_type": "code",
   "execution_count": null,
   "metadata": {},
   "outputs": [],
   "source": []
  }
 ],
 "metadata": {
  "hide_input": false,
  "kernelspec": {
   "display_name": "Python 3 (ipykernel)",
   "language": "python",
   "name": "python3"
  },
  "language_info": {
   "codemirror_mode": {
    "name": "ipython",
    "version": 3
   },
   "file_extension": ".py",
   "mimetype": "text/x-python",
   "name": "python",
   "nbconvert_exporter": "python",
   "pygments_lexer": "ipython3",
   "version": "3.9.7"
  }
 },
 "nbformat": 4,
 "nbformat_minor": 4
}
