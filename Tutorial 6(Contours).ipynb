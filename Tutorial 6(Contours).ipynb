{
 "cells": [
  {
   "cell_type": "code",
   "execution_count": 1,
   "metadata": {},
   "outputs": [],
   "source": [
    "import cv2\n",
    "import numpy as np"
   ]
  },
  {
   "cell_type": "code",
   "execution_count": 2,
   "metadata": {},
   "outputs": [],
   "source": [
    "image=cv2.imread(\"13.jpeg\")\n",
    "H,w=image.shape[:2]\n",
    "n_w=416\n",
    "aspect_r=n_w/w\n",
    "new_H=int(H*aspect_r)\n",
    "img_resize=cv2.resize(image,(n_w,new_H),interpolation=cv2.INTER_AREA)\n"
   ]
  },
  {
   "cell_type": "code",
   "execution_count": 3,
   "metadata": {},
   "outputs": [
    {
     "data": {
      "text/plain": [
       "-1"
      ]
     },
     "execution_count": 3,
     "metadata": {},
     "output_type": "execute_result"
    }
   ],
   "source": [
    "gray=cv2.cvtColor(img_resize,cv2.COLOR_BGR2GRAY)\n",
    "mblur=cv2.medianBlur(gray,11,2)\n",
    "#erode=cv2.erode(blur,(3,3),5)\n",
    "#kernel1=cv2.getStructuringElement(cv2.MORPH_RECT,(5,5))\n",
    "#opening=cv2.morphologyEx(gray,cv2.MORPH_OPEN,kernel1)\n",
    "Blur=cv2.GaussianBlur(gray,(3,3),0)\n",
    "T,inv_thresh=cv2.threshold(mblur,0,255,cv2.THRESH_BINARY_INV | cv2.THRESH_OTSU )\n",
    "canny=cv2.Canny(mblur,100,255)\n",
    "erode=cv2.erode(inv_thresh,(7,7),5)\n",
    "cv2.imshow('Image',inv_thresh)\n",
    "cv2.imshow(\"Gray\",gray)\n",
    "#cv2.imshow('Canny',canny)\n",
    "cv2.waitKey(0)"
   ]
  },
  {
   "cell_type": "markdown",
   "metadata": {},
   "source": [
    "# Finding and drawing contours\n",
    "So up until this point in the course we have been able to apply methods like thresholding (Module 1.9) and edge detection (Module 1.10) to detect the outlines and structures of objects in images.\n",
    "\n",
    "However, now that we have the outlines and structures of the objects in images, the big question becomes: How do we find and access these outlines?\n",
    "\n",
    "The answer: contours.\n",
    "\n",
    "I’ll say this many times before this lesson is over, but contours are an invaluable tool to have in your tool belt. Being able to leverage simple contour properties enables you to solve complicated problems with ease.\n",
    "\n",
    "Finding and Drawing Contours\n",
    "Before we can utilize contour properties to identify X’s and O’s on a tic-tac-toe board or identify Tetris blocks, we first need to understand how to find contours in an image and draw them.\n",
    "\n",
    "As I mentioned in the introduction to this lesson, contours are simply the outlines of an object in an image. If the image is simple enough, we might be able to get away with using the grayscale image as an input.\n",
    "\n",
    "But for more complicated images, we must first find the object by using methods such as edge detection or thresholding — we are simply seeking a binary image where white pixels correspond to objects in an image and black pixels as the background. There are many ways to obtain a binary image like this, but the most used methods are edge detection and thresholding.\n",
    "\n",
    "Key takeaway: For better accuracy you’ll normally want to utilize a binary image rather than a grayscale image. We’ll use both binary and grayscale images in this lesson. But once we start to get to some of the more advanced contour topics, you’ll notice that we switch from grayscale to binary images to improve our contour accuracy."
   ]
  },
  {
   "cell_type": "code",
   "execution_count": 16,
   "metadata": {},
   "outputs": [
    {
     "data": {
      "text/plain": [
       "-1"
      ]
     },
     "execution_count": 16,
     "metadata": {},
     "output_type": "execute_result"
    }
   ],
   "source": [
    "import imutils\n",
    "contours=cv2.findContours(inv_thresh.copy(),cv2.RETR_EXTERNAL,cv2.CHAIN_APPROX_SIMPLE)\n",
    "#contours=cv2.findContours(gray.copy(),cv2.RETR_EXTERNAL,cv2.CHAIN_APPROX_SIMPLE)\n",
    "grab_cnts=imutils.grab_contours(contours)\n",
    "clone=img_resize.copy()\n",
    "#cv2.drawContours(clone,grab_cnts,-1,(0,0,0),2)\n",
    "#print('Found {} contours'.format(len(grab_cnts)))\n",
    "cv2.imshow(\"Contours\",clone)\n",
    "#cv2.imwrite('Clone_pest.jpg',clone)\n",
    "cv2.waitKey(0)"
   ]
  },
  {
   "cell_type": "markdown",
   "metadata": {},
   "source": [
    "We make a call to cv2.findContours  on Line 20, passing in our grayscale image. The cv2.findContours  function is destructive to the input image (meaning that it manipulates it) so if you intend on using your input image again, be sure to clone it using the copy()  method prior to passing it into cv2.findContours .\n",
    "\n",
    "We’ll instruct cv2.findContours  to return a list of all contours in the image by passing in the cv2.RETR_LIST  flag. This flag will ensure that all contours are returned. Other methods exist, such as returning only the external most contours, which we’ll explore later in this article.\n",
    "\n",
    "Finally, we pass in the cv2.CHAIN_APPROX_SIMPLE  flag. If we did not specify this flag and instead used cv2.CHAIN_APPROX_NONE , we would be storing every single (x, y)-coordinate along the contour. In general, this not advisable. It’s substantially slower and takes up significantly more memory. By compressing our horizontal, vertical, and diagonal segments into only end-points we are able to reduce memory consumption significantly without any substantial loss in contour accuracy. You can read more about the compression of contours in the\n",
    "# drawContours\n",
    "\n",
    "The third parameter is the index of the contour inside the cnts  list that we want to draw. If we wanted to draw only the first contour, we could pass in a value of 0. If we wanted to draw only the second contour, we would supply a value of 1. Passing in a value of -1 for this argument instructs the cv2.drawContours  function to draw all contours in the cnts  list. Personally, I like to always supply a value of -1 and just supply the single contour manually. Doing this is slightly more Pythonic and easier to read — I’ll make this point clear later in this lesson.\n",
    "\n",
    "Finally, the last two arguments to the cv2.drawContours  function is the color of the contour (in this case green), and the thickness of the contour line (2 pixels).\n",
    "\n",
    "Consider what would happen if I wanted to draw the first two contours and nothing else. I would either have to manually make two calls to cv2.findContours  or to use a for  loop and supply the contour index value i.\n",
    "\n",
    "Simply put, that’s not very Pythonic when all I need to do is supply Python array slices:\n",
    "\n",
    "Drawing the first two contours\n",
    "cv2.drawContours\n",
    "## (clone, cnts[:2], -1, (0, 255, 0), 2)"
   ]
  },
  {
   "cell_type": "markdown",
   "metadata": {},
   "source": [
    "# Centroid/Center of Mass\n",
    "The “centroid” or “center of mass” is the center (x, y)-coordinate of an object in an image. This (x, y)-coordinate is actually calculated based on the image moments, which are based on the weighted average of the (x, y)-coordinates/pixel intensity along the contour.\n",
    "## Bounding Boxes\n",
    "A bounding box is exactly what it sounds like — an upright rectangle that “bounds” and “contains” the entire contoured region of the image. However, it does not consider the rotation of the shape, so you’ll want to keep that in mind.\n",
    "\n",
    "A bounding box consists of four components: the starting x-coordinate of the box, then the starting y-coordinate of the box, followed by the width and height of the box."
   ]
  },
  {
   "cell_type": "code",
   "execution_count": 23,
   "metadata": {},
   "outputs": [
    {
     "data": {
      "text/plain": [
       "-1"
      ]
     },
     "execution_count": 23,
     "metadata": {},
     "output_type": "execute_result"
    }
   ],
   "source": [
    "for c in grab_cnts:\n",
    "    (x,y,w,h)=cv2.boundingRect(c)\n",
    "    cv2.rectangle(clone,(x,y),(x+w,y+h),(0,0,255),2)\n",
    "    cv2.putText(clone,\"Fruitfly\",(x-1,y+1),1,cv2.FONT_HERSHEY_PLAIN,(0,0,255),1)\n",
    "cv2.imshow('Clone',clone)\n",
    "cv2.waitKey(0)"
   ]
  },
  {
   "cell_type": "code",
   "execution_count": 27,
   "metadata": {},
   "outputs": [
    {
     "data": {
      "text/plain": [
       "-1"
      ]
     },
     "execution_count": 27,
     "metadata": {},
     "output_type": "execute_result"
    }
   ],
   "source": [
    "for c in grab_cnts:\n",
    "    box = cv2.minAreaRect(c)\n",
    "    (x,y),(w,h),(theta)=box\n",
    "    x=int(x)\n",
    "    y=int(y)\n",
    "    box = np.int0(cv2.cv.BoxPoints(box) if imutils.is_cv2() else cv2.boxPoints(box))\n",
    "    cv2.drawContours(clone, [box], -1, (0, 255, 0), 2)\n",
    "    cv2.putText(clone,\"Fruitfly\",(x-1,y+1),1,cv2.FONT_HERSHEY_PLAIN,(0,0,255),1)\n",
    "cv2.imshow(\"Clone\",clone)\n",
    "#cv2.imwrite(\"Image_processing.jpg\",clone)\n",
    "cv2.waitKey(0)"
   ]
  },
  {
   "cell_type": "markdown",
   "metadata": {},
   "source": [
    "The cv2.minAreaRect  (Line 75) function takes our contour and returns a tuple with 3 values. The first value of the tuple is the starting (x, y)-coordinates of the rotated bounding box. The second value is the width and height of the bounding box. And the final value is our \\theta, or angle of rotation of the shape.\n",
    "\n",
    "However, since we want to draw a rotated bounding box rather than a standard bounding box we won’t be able to leverage the cv2.rectangle  function. Instead, we’ll pass the output of cv2.minAreaRect  to the cv2.boxPoints  (Line 76) function (cv2.cv.BoxPoints  for OpenCV 2.4) which converts the (x, y)-coordinates, width and height, and angle of rotation into a set of coordinates points.\n",
    "\n",
    "In essence, the cv2.minAreaRect  function just gives us another contour, which we then draw on our image on Line 77.\n",
    "\n",
    "Below you can see the output of computing the rotated bounding boxes:\n",
    "\n",
    "Figure 8: Computing rotated bounding boxes rather than standard ones.\n",
    "Figure 4: Computing rotated bounding boxes rather than standard ones.\n",
    "In general, you’ll want to use standard bounding boxes when you want to crop a shape from an image (Module 1.4.5). And you’ll want to use rotated bounding boxes when you are utilizing masks to extract regions from an image."
   ]
  },
  {
   "cell_type": "code",
   "execution_count": 33,
   "metadata": {},
   "outputs": [
    {
     "data": {
      "text/plain": [
       "-1"
      ]
     },
     "execution_count": 33,
     "metadata": {},
     "output_type": "execute_result"
    }
   ],
   "source": [
    "for c in grab_cnts:\n",
    "    (x,y),radius=cv2.minEnclosingCircle(c)\n",
    "    cv2.circle(clone,(int(x),int(y)),int(radius),(255,0,0),4)\n",
    "    cv2.putText(clone,\"Circle\",(int(x),int(y)),1,cv2.FONT_HERSHEY_PLAIN,(255,0,0),1)\n",
    "cv2.imshow(\"Circle\",clone)\n",
    "cv2.waitKey(0)"
   ]
  },
  {
   "cell_type": "code",
   "execution_count": 34,
   "metadata": {},
   "outputs": [
    {
     "data": {
      "text/plain": [
       "-1"
      ]
     },
     "execution_count": 34,
     "metadata": {},
     "output_type": "execute_result"
    }
   ],
   "source": [
    "#Fitting an Ellipse\n",
    "#Fitting an ellipse to a contour is much like fitting a rotated rectangle to a contour.\n",
    "\n",
    "#Under the hood, OpenCV is computing the rotated rectangle of the contour. And then it’s taking the rotated rectangle and computing an ellipse to fit in the rotated region:\n",
    "\n",
    "#contour_properties_1.py\n",
    "# loop over the contours\n",
    "for c in grab_cnts:\n",
    "\t# to fit an ellipse, our contour must have at least 5 points\n",
    "\tif len(c) >= 5:\n",
    "\t\t# fit an ellipse to the contour\n",
    "\t\tellipse = cv2.fitEllipse(c)\n",
    "\t\tcv2.ellipse(clone, ellipse, (0, 255, 0), 2)\n",
    "# show the output image\n",
    "cv2.imshow(\"Ellipses\", clone)\n",
    "cv2.waitKey(0)"
   ]
  },
  {
   "cell_type": "code",
   "execution_count": null,
   "metadata": {},
   "outputs": [],
   "source": []
  }
 ],
 "metadata": {
  "hide_input": false,
  "kernelspec": {
   "display_name": "Python 3 (ipykernel)",
   "language": "python",
   "name": "python3"
  },
  "language_info": {
   "codemirror_mode": {
    "name": "ipython",
    "version": 3
   },
   "file_extension": ".py",
   "mimetype": "text/x-python",
   "name": "python",
   "nbconvert_exporter": "python",
   "pygments_lexer": "ipython3",
   "version": "3.9.7"
  }
 },
 "nbformat": 4,
 "nbformat_minor": 4
}
